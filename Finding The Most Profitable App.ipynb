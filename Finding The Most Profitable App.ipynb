{
 "cells": [
  {
   "cell_type": "markdown",
   "metadata": {},
   "source": [
    "# Profitable App Profile\n",
    "\n",
    "## Project's Goal\n",
    "\n",
    "We'll take the role of a data analyst, who has to advise company specialized in developing apps for Android and iOS directed towards an english-speaking company. The company's business consists in in-app advertisement, so the revenue is highly influenced by the number of user an application has. The task is to find out which apps are the most profitable one's according to the companies profile.\n",
    "\n",
    "## Datasets \n",
    "\n",
    "In this project, we'll use two datasets that can be easily found on kaggle.com and offer data on apps from Google Play Store and Apple Store.\n",
    "\n",
    "Google Play Store = https://www.kaggle.com/lava18/google-play-store-apps\n",
    "\n",
    "Apple Store = https://www.kaggle.com/ramamet4/app-store-apple-data-set-10k-apps\n"
   ]
  },
  {
   "cell_type": "markdown",
   "metadata": {},
   "source": [
    "### Importing Libraries"
   ]
  },
  {
   "cell_type": "code",
   "execution_count": 1,
   "metadata": {},
   "outputs": [],
   "source": [
    "import pandas as pd \n",
    "import numpy as np\n",
    "import seaborn as sns\n",
    "import matplotlib.pyplot as plt\n",
    "\n",
    "sns.set_style(\"whitegrid\")\n",
    "plt.style.use(\"seaborn-whitegrid\")"
   ]
  },
  {
   "cell_type": "markdown",
   "metadata": {},
   "source": [
    "### Preview of The Google Play Store Dataset"
   ]
  },
  {
   "cell_type": "code",
   "execution_count": 2,
   "metadata": {},
   "outputs": [
    {
     "data": {
      "text/html": [
       "<div>\n",
       "<style scoped>\n",
       "    .dataframe tbody tr th:only-of-type {\n",
       "        vertical-align: middle;\n",
       "    }\n",
       "\n",
       "    .dataframe tbody tr th {\n",
       "        vertical-align: top;\n",
       "    }\n",
       "\n",
       "    .dataframe thead th {\n",
       "        text-align: right;\n",
       "    }\n",
       "</style>\n",
       "<table border=\"1\" class=\"dataframe\">\n",
       "  <thead>\n",
       "    <tr style=\"text-align: right;\">\n",
       "      <th></th>\n",
       "      <th>App</th>\n",
       "      <th>Category</th>\n",
       "      <th>Rating</th>\n",
       "      <th>Reviews</th>\n",
       "      <th>Size</th>\n",
       "      <th>Installs</th>\n",
       "      <th>Type</th>\n",
       "      <th>Price</th>\n",
       "      <th>Content Rating</th>\n",
       "      <th>Genres</th>\n",
       "      <th>Last Updated</th>\n",
       "      <th>Current Ver</th>\n",
       "      <th>Android Ver</th>\n",
       "    </tr>\n",
       "  </thead>\n",
       "  <tbody>\n",
       "    <tr>\n",
       "      <td>0</td>\n",
       "      <td>Photo Editor &amp; Candy Camera &amp; Grid &amp; ScrapBook</td>\n",
       "      <td>ART_AND_DESIGN</td>\n",
       "      <td>4.1</td>\n",
       "      <td>159</td>\n",
       "      <td>19M</td>\n",
       "      <td>10,000+</td>\n",
       "      <td>Free</td>\n",
       "      <td>0</td>\n",
       "      <td>Everyone</td>\n",
       "      <td>Art &amp; Design</td>\n",
       "      <td>January 7, 2018</td>\n",
       "      <td>1.0.0</td>\n",
       "      <td>4.0.3 and up</td>\n",
       "    </tr>\n",
       "    <tr>\n",
       "      <td>1</td>\n",
       "      <td>Coloring book moana</td>\n",
       "      <td>ART_AND_DESIGN</td>\n",
       "      <td>3.9</td>\n",
       "      <td>967</td>\n",
       "      <td>14M</td>\n",
       "      <td>500,000+</td>\n",
       "      <td>Free</td>\n",
       "      <td>0</td>\n",
       "      <td>Everyone</td>\n",
       "      <td>Art &amp; Design;Pretend Play</td>\n",
       "      <td>January 15, 2018</td>\n",
       "      <td>2.0.0</td>\n",
       "      <td>4.0.3 and up</td>\n",
       "    </tr>\n",
       "    <tr>\n",
       "      <td>2</td>\n",
       "      <td>U Launcher Lite – FREE Live Cool Themes, Hide ...</td>\n",
       "      <td>ART_AND_DESIGN</td>\n",
       "      <td>4.7</td>\n",
       "      <td>87510</td>\n",
       "      <td>8.7M</td>\n",
       "      <td>5,000,000+</td>\n",
       "      <td>Free</td>\n",
       "      <td>0</td>\n",
       "      <td>Everyone</td>\n",
       "      <td>Art &amp; Design</td>\n",
       "      <td>August 1, 2018</td>\n",
       "      <td>1.2.4</td>\n",
       "      <td>4.0.3 and up</td>\n",
       "    </tr>\n",
       "  </tbody>\n",
       "</table>\n",
       "</div>"
      ],
      "text/plain": [
       "                                                 App        Category  Rating  \\\n",
       "0     Photo Editor & Candy Camera & Grid & ScrapBook  ART_AND_DESIGN     4.1   \n",
       "1                                Coloring book moana  ART_AND_DESIGN     3.9   \n",
       "2  U Launcher Lite – FREE Live Cool Themes, Hide ...  ART_AND_DESIGN     4.7   \n",
       "\n",
       "  Reviews  Size    Installs  Type Price Content Rating  \\\n",
       "0     159   19M     10,000+  Free     0       Everyone   \n",
       "1     967   14M    500,000+  Free     0       Everyone   \n",
       "2   87510  8.7M  5,000,000+  Free     0       Everyone   \n",
       "\n",
       "                      Genres      Last Updated Current Ver   Android Ver  \n",
       "0               Art & Design   January 7, 2018       1.0.0  4.0.3 and up  \n",
       "1  Art & Design;Pretend Play  January 15, 2018       2.0.0  4.0.3 and up  \n",
       "2               Art & Design    August 1, 2018       1.2.4  4.0.3 and up  "
      ]
     },
     "execution_count": 2,
     "metadata": {},
     "output_type": "execute_result"
    }
   ],
   "source": [
    "google = pd.read_csv(r\"C:\\Users\\celio\\My Projects\\Guided Projects\\Bewerbung\\googleplaystore.csv\")\n",
    "google.head(3)"
   ]
  },
  {
   "cell_type": "markdown",
   "metadata": {},
   "source": [
    "### Preview Of The Apple Store Dataset"
   ]
  },
  {
   "cell_type": "code",
   "execution_count": 3,
   "metadata": {
    "scrolled": true
   },
   "outputs": [
    {
     "data": {
      "text/html": [
       "<div>\n",
       "<style scoped>\n",
       "    .dataframe tbody tr th:only-of-type {\n",
       "        vertical-align: middle;\n",
       "    }\n",
       "\n",
       "    .dataframe tbody tr th {\n",
       "        vertical-align: top;\n",
       "    }\n",
       "\n",
       "    .dataframe thead th {\n",
       "        text-align: right;\n",
       "    }\n",
       "</style>\n",
       "<table border=\"1\" class=\"dataframe\">\n",
       "  <thead>\n",
       "    <tr style=\"text-align: right;\">\n",
       "      <th></th>\n",
       "      <th>id</th>\n",
       "      <th>track_name</th>\n",
       "      <th>size_bytes</th>\n",
       "      <th>currency</th>\n",
       "      <th>price</th>\n",
       "      <th>rating_count_tot</th>\n",
       "      <th>rating_count_ver</th>\n",
       "      <th>user_rating</th>\n",
       "      <th>user_rating_ver</th>\n",
       "      <th>ver</th>\n",
       "      <th>cont_rating</th>\n",
       "      <th>prime_genre</th>\n",
       "      <th>sup_devices.num</th>\n",
       "      <th>ipadSc_urls.num</th>\n",
       "      <th>lang.num</th>\n",
       "      <th>vpp_lic</th>\n",
       "    </tr>\n",
       "  </thead>\n",
       "  <tbody>\n",
       "    <tr>\n",
       "      <td>0</td>\n",
       "      <td>284882215</td>\n",
       "      <td>Facebook</td>\n",
       "      <td>389879808</td>\n",
       "      <td>USD</td>\n",
       "      <td>0.0</td>\n",
       "      <td>2974676</td>\n",
       "      <td>212</td>\n",
       "      <td>3.5</td>\n",
       "      <td>3.5</td>\n",
       "      <td>95.0</td>\n",
       "      <td>4+</td>\n",
       "      <td>Social Networking</td>\n",
       "      <td>37</td>\n",
       "      <td>1</td>\n",
       "      <td>29</td>\n",
       "      <td>1</td>\n",
       "    </tr>\n",
       "    <tr>\n",
       "      <td>1</td>\n",
       "      <td>389801252</td>\n",
       "      <td>Instagram</td>\n",
       "      <td>113954816</td>\n",
       "      <td>USD</td>\n",
       "      <td>0.0</td>\n",
       "      <td>2161558</td>\n",
       "      <td>1289</td>\n",
       "      <td>4.5</td>\n",
       "      <td>4.0</td>\n",
       "      <td>10.23</td>\n",
       "      <td>12+</td>\n",
       "      <td>Photo &amp; Video</td>\n",
       "      <td>37</td>\n",
       "      <td>0</td>\n",
       "      <td>29</td>\n",
       "      <td>1</td>\n",
       "    </tr>\n",
       "    <tr>\n",
       "      <td>2</td>\n",
       "      <td>529479190</td>\n",
       "      <td>Clash of Clans</td>\n",
       "      <td>116476928</td>\n",
       "      <td>USD</td>\n",
       "      <td>0.0</td>\n",
       "      <td>2130805</td>\n",
       "      <td>579</td>\n",
       "      <td>4.5</td>\n",
       "      <td>4.5</td>\n",
       "      <td>9.24.12</td>\n",
       "      <td>9+</td>\n",
       "      <td>Games</td>\n",
       "      <td>38</td>\n",
       "      <td>5</td>\n",
       "      <td>18</td>\n",
       "      <td>1</td>\n",
       "    </tr>\n",
       "  </tbody>\n",
       "</table>\n",
       "</div>"
      ],
      "text/plain": [
       "          id      track_name  size_bytes currency  price  rating_count_tot  \\\n",
       "0  284882215        Facebook   389879808      USD    0.0           2974676   \n",
       "1  389801252       Instagram   113954816      USD    0.0           2161558   \n",
       "2  529479190  Clash of Clans   116476928      USD    0.0           2130805   \n",
       "\n",
       "   rating_count_ver  user_rating  user_rating_ver      ver cont_rating  \\\n",
       "0               212          3.5              3.5     95.0          4+   \n",
       "1              1289          4.5              4.0    10.23         12+   \n",
       "2               579          4.5              4.5  9.24.12          9+   \n",
       "\n",
       "         prime_genre  sup_devices.num  ipadSc_urls.num  lang.num  vpp_lic  \n",
       "0  Social Networking               37                1        29        1  \n",
       "1      Photo & Video               37                0        29        1  \n",
       "2              Games               38                5        18        1  "
      ]
     },
     "execution_count": 3,
     "metadata": {},
     "output_type": "execute_result"
    }
   ],
   "source": [
    "apple = pd.read_csv(r\"C:\\Users\\celio\\My Projects\\AppleStore.csv\", encoding = \"utf8\")\n",
    "apple.head(3)"
   ]
  },
  {
   "cell_type": "markdown",
   "metadata": {},
   "source": [
    "The Apple Store dataset give us about the same information that the Google Play data set does."
   ]
  },
  {
   "cell_type": "markdown",
   "metadata": {},
   "source": [
    "## Checking For Duplicates\n",
    "\n",
    "The first thing we have to do is check for duplicates:\n",
    "\n",
    "### Google Play Store"
   ]
  },
  {
   "cell_type": "code",
   "execution_count": 4,
   "metadata": {},
   "outputs": [
    {
     "data": {
      "text/html": [
       "<div>\n",
       "<style scoped>\n",
       "    .dataframe tbody tr th:only-of-type {\n",
       "        vertical-align: middle;\n",
       "    }\n",
       "\n",
       "    .dataframe tbody tr th {\n",
       "        vertical-align: top;\n",
       "    }\n",
       "\n",
       "    .dataframe thead th {\n",
       "        text-align: right;\n",
       "    }\n",
       "</style>\n",
       "<table border=\"1\" class=\"dataframe\">\n",
       "  <thead>\n",
       "    <tr style=\"text-align: right;\">\n",
       "      <th></th>\n",
       "      <th>App</th>\n",
       "      <th>Category</th>\n",
       "      <th>Rating</th>\n",
       "      <th>Reviews</th>\n",
       "      <th>Size</th>\n",
       "      <th>Installs</th>\n",
       "      <th>Type</th>\n",
       "      <th>Price</th>\n",
       "      <th>Content Rating</th>\n",
       "      <th>Genres</th>\n",
       "      <th>Last Updated</th>\n",
       "      <th>Current Ver</th>\n",
       "      <th>Android Ver</th>\n",
       "    </tr>\n",
       "  </thead>\n",
       "  <tbody>\n",
       "    <tr>\n",
       "      <td>1393</td>\n",
       "      <td>10 Best Foods for You</td>\n",
       "      <td>HEALTH_AND_FITNESS</td>\n",
       "      <td>4.0</td>\n",
       "      <td>2490</td>\n",
       "      <td>3.8M</td>\n",
       "      <td>500,000+</td>\n",
       "      <td>Free</td>\n",
       "      <td>0</td>\n",
       "      <td>Everyone 10+</td>\n",
       "      <td>Health &amp; Fitness</td>\n",
       "      <td>February 17, 2017</td>\n",
       "      <td>1.9</td>\n",
       "      <td>2.3.3 and up</td>\n",
       "    </tr>\n",
       "    <tr>\n",
       "      <td>1407</td>\n",
       "      <td>10 Best Foods for You</td>\n",
       "      <td>HEALTH_AND_FITNESS</td>\n",
       "      <td>4.0</td>\n",
       "      <td>2490</td>\n",
       "      <td>3.8M</td>\n",
       "      <td>500,000+</td>\n",
       "      <td>Free</td>\n",
       "      <td>0</td>\n",
       "      <td>Everyone 10+</td>\n",
       "      <td>Health &amp; Fitness</td>\n",
       "      <td>February 17, 2017</td>\n",
       "      <td>1.9</td>\n",
       "      <td>2.3.3 and up</td>\n",
       "    </tr>\n",
       "    <tr>\n",
       "      <td>2543</td>\n",
       "      <td>1800 Contacts - Lens Store</td>\n",
       "      <td>MEDICAL</td>\n",
       "      <td>4.7</td>\n",
       "      <td>23160</td>\n",
       "      <td>26M</td>\n",
       "      <td>1,000,000+</td>\n",
       "      <td>Free</td>\n",
       "      <td>0</td>\n",
       "      <td>Everyone</td>\n",
       "      <td>Medical</td>\n",
       "      <td>July 27, 2018</td>\n",
       "      <td>7.4.1</td>\n",
       "      <td>5.0 and up</td>\n",
       "    </tr>\n",
       "    <tr>\n",
       "      <td>2322</td>\n",
       "      <td>1800 Contacts - Lens Store</td>\n",
       "      <td>MEDICAL</td>\n",
       "      <td>4.7</td>\n",
       "      <td>23160</td>\n",
       "      <td>26M</td>\n",
       "      <td>1,000,000+</td>\n",
       "      <td>Free</td>\n",
       "      <td>0</td>\n",
       "      <td>Everyone</td>\n",
       "      <td>Medical</td>\n",
       "      <td>July 27, 2018</td>\n",
       "      <td>7.4.1</td>\n",
       "      <td>5.0 and up</td>\n",
       "    </tr>\n",
       "    <tr>\n",
       "      <td>2385</td>\n",
       "      <td>2017 EMRA Antibiotic Guide</td>\n",
       "      <td>MEDICAL</td>\n",
       "      <td>4.4</td>\n",
       "      <td>12</td>\n",
       "      <td>3.8M</td>\n",
       "      <td>1,000+</td>\n",
       "      <td>Paid</td>\n",
       "      <td>$16.99</td>\n",
       "      <td>Everyone</td>\n",
       "      <td>Medical</td>\n",
       "      <td>January 27, 2017</td>\n",
       "      <td>1.0.5</td>\n",
       "      <td>4.0.3 and up</td>\n",
       "    </tr>\n",
       "    <tr>\n",
       "      <td>...</td>\n",
       "      <td>...</td>\n",
       "      <td>...</td>\n",
       "      <td>...</td>\n",
       "      <td>...</td>\n",
       "      <td>...</td>\n",
       "      <td>...</td>\n",
       "      <td>...</td>\n",
       "      <td>...</td>\n",
       "      <td>...</td>\n",
       "      <td>...</td>\n",
       "      <td>...</td>\n",
       "      <td>...</td>\n",
       "      <td>...</td>\n",
       "    </tr>\n",
       "    <tr>\n",
       "      <td>3202</td>\n",
       "      <td>trivago: Hotels &amp; Travel</td>\n",
       "      <td>TRAVEL_AND_LOCAL</td>\n",
       "      <td>4.2</td>\n",
       "      <td>219848</td>\n",
       "      <td>Varies with device</td>\n",
       "      <td>50,000,000+</td>\n",
       "      <td>Free</td>\n",
       "      <td>0</td>\n",
       "      <td>Everyone</td>\n",
       "      <td>Travel &amp; Local</td>\n",
       "      <td>August 2, 2018</td>\n",
       "      <td>Varies with device</td>\n",
       "      <td>Varies with device</td>\n",
       "    </tr>\n",
       "    <tr>\n",
       "      <td>3118</td>\n",
       "      <td>trivago: Hotels &amp; Travel</td>\n",
       "      <td>TRAVEL_AND_LOCAL</td>\n",
       "      <td>4.2</td>\n",
       "      <td>219848</td>\n",
       "      <td>Varies with device</td>\n",
       "      <td>50,000,000+</td>\n",
       "      <td>Free</td>\n",
       "      <td>0</td>\n",
       "      <td>Everyone</td>\n",
       "      <td>Travel &amp; Local</td>\n",
       "      <td>August 2, 2018</td>\n",
       "      <td>Varies with device</td>\n",
       "      <td>Varies with device</td>\n",
       "    </tr>\n",
       "    <tr>\n",
       "      <td>3103</td>\n",
       "      <td>trivago: Hotels &amp; Travel</td>\n",
       "      <td>TRAVEL_AND_LOCAL</td>\n",
       "      <td>4.2</td>\n",
       "      <td>219848</td>\n",
       "      <td>Varies with device</td>\n",
       "      <td>50,000,000+</td>\n",
       "      <td>Free</td>\n",
       "      <td>0</td>\n",
       "      <td>Everyone</td>\n",
       "      <td>Travel &amp; Local</td>\n",
       "      <td>August 2, 2018</td>\n",
       "      <td>Varies with device</td>\n",
       "      <td>Varies with device</td>\n",
       "    </tr>\n",
       "    <tr>\n",
       "      <td>8291</td>\n",
       "      <td>wetter.com - Weather and Radar</td>\n",
       "      <td>WEATHER</td>\n",
       "      <td>4.2</td>\n",
       "      <td>189310</td>\n",
       "      <td>38M</td>\n",
       "      <td>10,000,000+</td>\n",
       "      <td>Free</td>\n",
       "      <td>0</td>\n",
       "      <td>Everyone</td>\n",
       "      <td>Weather</td>\n",
       "      <td>August 6, 2018</td>\n",
       "      <td>Varies with device</td>\n",
       "      <td>Varies with device</td>\n",
       "    </tr>\n",
       "    <tr>\n",
       "      <td>3652</td>\n",
       "      <td>wetter.com - Weather and Radar</td>\n",
       "      <td>WEATHER</td>\n",
       "      <td>4.2</td>\n",
       "      <td>189313</td>\n",
       "      <td>38M</td>\n",
       "      <td>10,000,000+</td>\n",
       "      <td>Free</td>\n",
       "      <td>0</td>\n",
       "      <td>Everyone</td>\n",
       "      <td>Weather</td>\n",
       "      <td>August 6, 2018</td>\n",
       "      <td>Varies with device</td>\n",
       "      <td>Varies with device</td>\n",
       "    </tr>\n",
       "  </tbody>\n",
       "</table>\n",
       "<p>1979 rows × 13 columns</p>\n",
       "</div>"
      ],
      "text/plain": [
       "                                 App            Category  Rating Reviews  \\\n",
       "1393           10 Best Foods for You  HEALTH_AND_FITNESS     4.0    2490   \n",
       "1407           10 Best Foods for You  HEALTH_AND_FITNESS     4.0    2490   \n",
       "2543      1800 Contacts - Lens Store             MEDICAL     4.7   23160   \n",
       "2322      1800 Contacts - Lens Store             MEDICAL     4.7   23160   \n",
       "2385      2017 EMRA Antibiotic Guide             MEDICAL     4.4      12   \n",
       "...                              ...                 ...     ...     ...   \n",
       "3202        trivago: Hotels & Travel    TRAVEL_AND_LOCAL     4.2  219848   \n",
       "3118        trivago: Hotels & Travel    TRAVEL_AND_LOCAL     4.2  219848   \n",
       "3103        trivago: Hotels & Travel    TRAVEL_AND_LOCAL     4.2  219848   \n",
       "8291  wetter.com - Weather and Radar             WEATHER     4.2  189310   \n",
       "3652  wetter.com - Weather and Radar             WEATHER     4.2  189313   \n",
       "\n",
       "                    Size     Installs  Type   Price Content Rating  \\\n",
       "1393                3.8M     500,000+  Free       0   Everyone 10+   \n",
       "1407                3.8M     500,000+  Free       0   Everyone 10+   \n",
       "2543                 26M   1,000,000+  Free       0       Everyone   \n",
       "2322                 26M   1,000,000+  Free       0       Everyone   \n",
       "2385                3.8M       1,000+  Paid  $16.99       Everyone   \n",
       "...                  ...          ...   ...     ...            ...   \n",
       "3202  Varies with device  50,000,000+  Free       0       Everyone   \n",
       "3118  Varies with device  50,000,000+  Free       0       Everyone   \n",
       "3103  Varies with device  50,000,000+  Free       0       Everyone   \n",
       "8291                 38M  10,000,000+  Free       0       Everyone   \n",
       "3652                 38M  10,000,000+  Free       0       Everyone   \n",
       "\n",
       "                Genres       Last Updated         Current Ver  \\\n",
       "1393  Health & Fitness  February 17, 2017                 1.9   \n",
       "1407  Health & Fitness  February 17, 2017                 1.9   \n",
       "2543           Medical      July 27, 2018               7.4.1   \n",
       "2322           Medical      July 27, 2018               7.4.1   \n",
       "2385           Medical   January 27, 2017               1.0.5   \n",
       "...                ...                ...                 ...   \n",
       "3202    Travel & Local     August 2, 2018  Varies with device   \n",
       "3118    Travel & Local     August 2, 2018  Varies with device   \n",
       "3103    Travel & Local     August 2, 2018  Varies with device   \n",
       "8291           Weather     August 6, 2018  Varies with device   \n",
       "3652           Weather     August 6, 2018  Varies with device   \n",
       "\n",
       "             Android Ver  \n",
       "1393        2.3.3 and up  \n",
       "1407        2.3.3 and up  \n",
       "2543          5.0 and up  \n",
       "2322          5.0 and up  \n",
       "2385        4.0.3 and up  \n",
       "...                  ...  \n",
       "3202  Varies with device  \n",
       "3118  Varies with device  \n",
       "3103  Varies with device  \n",
       "8291  Varies with device  \n",
       "3652  Varies with device  \n",
       "\n",
       "[1979 rows x 13 columns]"
      ]
     },
     "execution_count": 4,
     "metadata": {},
     "output_type": "execute_result"
    }
   ],
   "source": [
    "google[google.duplicated(\"App\",keep =False)].sort_values(by=\"App\")"
   ]
  },
  {
   "cell_type": "markdown",
   "metadata": {},
   "source": [
    "In the Google Play Store, we have almost 2000 repeated entries. \n",
    "\n",
    "We can also see, based in the table above, that the apps are perfect duplicates, so we can keep any of the results. However, for the sake of not wasting data, we'll keep the entry with the most reviews."
   ]
  },
  {
   "cell_type": "code",
   "execution_count": 5,
   "metadata": {},
   "outputs": [],
   "source": [
    "google = google.sort_values(by=\"Reviews\", ascending = False).drop_duplicates(\"App\",keep = \"first\")"
   ]
  },
  {
   "cell_type": "markdown",
   "metadata": {},
   "source": [
    "We can confirm that the changes were made below:"
   ]
  },
  {
   "cell_type": "code",
   "execution_count": 6,
   "metadata": {},
   "outputs": [
    {
     "data": {
      "text/plain": [
       "App               0.0\n",
       "Category          0.0\n",
       "Rating            0.0\n",
       "Reviews           0.0\n",
       "Size              0.0\n",
       "Installs          0.0\n",
       "Type              0.0\n",
       "Price             0.0\n",
       "Content Rating    0.0\n",
       "Genres            0.0\n",
       "Last Updated      0.0\n",
       "Current Ver       0.0\n",
       "Android Ver       0.0\n",
       "dtype: float64"
      ]
     },
     "execution_count": 6,
     "metadata": {},
     "output_type": "execute_result"
    }
   ],
   "source": [
    "google[google.duplicated(\"App\")].sum()"
   ]
  },
  {
   "cell_type": "markdown",
   "metadata": {},
   "source": [
    "### Apple Store\n",
    "\n",
    "We can repeat the same procedure for the Apple Store."
   ]
  },
  {
   "cell_type": "code",
   "execution_count": 7,
   "metadata": {},
   "outputs": [
    {
     "data": {
      "text/html": [
       "<div>\n",
       "<style scoped>\n",
       "    .dataframe tbody tr th:only-of-type {\n",
       "        vertical-align: middle;\n",
       "    }\n",
       "\n",
       "    .dataframe tbody tr th {\n",
       "        vertical-align: top;\n",
       "    }\n",
       "\n",
       "    .dataframe thead th {\n",
       "        text-align: right;\n",
       "    }\n",
       "</style>\n",
       "<table border=\"1\" class=\"dataframe\">\n",
       "  <thead>\n",
       "    <tr style=\"text-align: right;\">\n",
       "      <th></th>\n",
       "      <th>id</th>\n",
       "      <th>track_name</th>\n",
       "      <th>size_bytes</th>\n",
       "      <th>currency</th>\n",
       "      <th>price</th>\n",
       "      <th>rating_count_tot</th>\n",
       "      <th>rating_count_ver</th>\n",
       "      <th>user_rating</th>\n",
       "      <th>user_rating_ver</th>\n",
       "      <th>ver</th>\n",
       "      <th>cont_rating</th>\n",
       "      <th>prime_genre</th>\n",
       "      <th>sup_devices.num</th>\n",
       "      <th>ipadSc_urls.num</th>\n",
       "      <th>lang.num</th>\n",
       "      <th>vpp_lic</th>\n",
       "    </tr>\n",
       "  </thead>\n",
       "  <tbody>\n",
       "    <tr>\n",
       "      <td>2948</td>\n",
       "      <td>1173990889</td>\n",
       "      <td>Mannequin Challenge</td>\n",
       "      <td>109705216</td>\n",
       "      <td>USD</td>\n",
       "      <td>0.0</td>\n",
       "      <td>668</td>\n",
       "      <td>87</td>\n",
       "      <td>3.0</td>\n",
       "      <td>3.0</td>\n",
       "      <td>1.4</td>\n",
       "      <td>9+</td>\n",
       "      <td>Games</td>\n",
       "      <td>37</td>\n",
       "      <td>4</td>\n",
       "      <td>1</td>\n",
       "      <td>1</td>\n",
       "    </tr>\n",
       "    <tr>\n",
       "      <td>4442</td>\n",
       "      <td>952877179</td>\n",
       "      <td>VR Roller Coaster</td>\n",
       "      <td>169523200</td>\n",
       "      <td>USD</td>\n",
       "      <td>0.0</td>\n",
       "      <td>107</td>\n",
       "      <td>102</td>\n",
       "      <td>3.5</td>\n",
       "      <td>3.5</td>\n",
       "      <td>2.0.0</td>\n",
       "      <td>4+</td>\n",
       "      <td>Games</td>\n",
       "      <td>37</td>\n",
       "      <td>5</td>\n",
       "      <td>1</td>\n",
       "      <td>1</td>\n",
       "    </tr>\n",
       "    <tr>\n",
       "      <td>4463</td>\n",
       "      <td>1178454060</td>\n",
       "      <td>Mannequin Challenge</td>\n",
       "      <td>59572224</td>\n",
       "      <td>USD</td>\n",
       "      <td>0.0</td>\n",
       "      <td>105</td>\n",
       "      <td>58</td>\n",
       "      <td>4.0</td>\n",
       "      <td>4.5</td>\n",
       "      <td>1.0.1</td>\n",
       "      <td>4+</td>\n",
       "      <td>Games</td>\n",
       "      <td>38</td>\n",
       "      <td>5</td>\n",
       "      <td>1</td>\n",
       "      <td>1</td>\n",
       "    </tr>\n",
       "    <tr>\n",
       "      <td>4831</td>\n",
       "      <td>1089824278</td>\n",
       "      <td>VR Roller Coaster</td>\n",
       "      <td>240964608</td>\n",
       "      <td>USD</td>\n",
       "      <td>0.0</td>\n",
       "      <td>67</td>\n",
       "      <td>44</td>\n",
       "      <td>3.5</td>\n",
       "      <td>4.0</td>\n",
       "      <td>0.81</td>\n",
       "      <td>4+</td>\n",
       "      <td>Games</td>\n",
       "      <td>38</td>\n",
       "      <td>0</td>\n",
       "      <td>1</td>\n",
       "      <td>1</td>\n",
       "    </tr>\n",
       "  </tbody>\n",
       "</table>\n",
       "</div>"
      ],
      "text/plain": [
       "              id           track_name  size_bytes currency  price  \\\n",
       "2948  1173990889  Mannequin Challenge   109705216      USD    0.0   \n",
       "4442   952877179    VR Roller Coaster   169523200      USD    0.0   \n",
       "4463  1178454060  Mannequin Challenge    59572224      USD    0.0   \n",
       "4831  1089824278    VR Roller Coaster   240964608      USD    0.0   \n",
       "\n",
       "      rating_count_tot  rating_count_ver  user_rating  user_rating_ver    ver  \\\n",
       "2948               668                87          3.0              3.0    1.4   \n",
       "4442               107               102          3.5              3.5  2.0.0   \n",
       "4463               105                58          4.0              4.5  1.0.1   \n",
       "4831                67                44          3.5              4.0   0.81   \n",
       "\n",
       "     cont_rating prime_genre  sup_devices.num  ipadSc_urls.num  lang.num  \\\n",
       "2948          9+       Games               37                4         1   \n",
       "4442          4+       Games               37                5         1   \n",
       "4463          4+       Games               38                5         1   \n",
       "4831          4+       Games               38                0         1   \n",
       "\n",
       "      vpp_lic  \n",
       "2948        1  \n",
       "4442        1  \n",
       "4463        1  \n",
       "4831        1  "
      ]
     },
     "execution_count": 7,
     "metadata": {},
     "output_type": "execute_result"
    }
   ],
   "source": [
    "apple[apple.duplicated(\"track_name\", keep = False)]"
   ]
  },
  {
   "cell_type": "markdown",
   "metadata": {},
   "source": [
    "Above, there are two duplicates. Again, we'll keep the one with more reviews."
   ]
  },
  {
   "cell_type": "code",
   "execution_count": 8,
   "metadata": {},
   "outputs": [],
   "source": [
    "apple = apple.sort_values(by=\"rating_count_tot\", ascending = False).drop_duplicates(\"track_name\", keep = \"first\")"
   ]
  },
  {
   "cell_type": "markdown",
   "metadata": {},
   "source": [
    "Confirming changes"
   ]
  },
  {
   "cell_type": "code",
   "execution_count": 9,
   "metadata": {},
   "outputs": [
    {
     "data": {
      "text/plain": [
       "id                  0.0\n",
       "track_name          0.0\n",
       "size_bytes          0.0\n",
       "currency            0.0\n",
       "price               0.0\n",
       "rating_count_tot    0.0\n",
       "rating_count_ver    0.0\n",
       "user_rating         0.0\n",
       "user_rating_ver     0.0\n",
       "ver                 0.0\n",
       "cont_rating         0.0\n",
       "prime_genre         0.0\n",
       "sup_devices.num     0.0\n",
       "ipadSc_urls.num     0.0\n",
       "lang.num            0.0\n",
       "vpp_lic             0.0\n",
       "dtype: float64"
      ]
     },
     "execution_count": 9,
     "metadata": {},
     "output_type": "execute_result"
    }
   ],
   "source": [
    "apple[apple.duplicated()].sum()"
   ]
  },
  {
   "cell_type": "markdown",
   "metadata": {},
   "source": [
    "# Findings Apps for English Speakers\n",
    "\n",
    "As mentioned above, the company produces apps for an english speaking community. Since Google Play Store contains apps from all over the world, we have to elimite these apps from the dataset to get a more accurate analysis.\n",
    "\n",
    "#### Google Play Store"
   ]
  },
  {
   "cell_type": "code",
   "execution_count": 10,
   "metadata": {},
   "outputs": [
    {
     "data": {
      "text/html": [
       "<div>\n",
       "<style scoped>\n",
       "    .dataframe tbody tr th:only-of-type {\n",
       "        vertical-align: middle;\n",
       "    }\n",
       "\n",
       "    .dataframe tbody tr th {\n",
       "        vertical-align: top;\n",
       "    }\n",
       "\n",
       "    .dataframe thead th {\n",
       "        text-align: right;\n",
       "    }\n",
       "</style>\n",
       "<table border=\"1\" class=\"dataframe\">\n",
       "  <thead>\n",
       "    <tr style=\"text-align: right;\">\n",
       "      <th></th>\n",
       "      <th>App</th>\n",
       "      <th>Category</th>\n",
       "      <th>Rating</th>\n",
       "      <th>Reviews</th>\n",
       "      <th>Size</th>\n",
       "      <th>Installs</th>\n",
       "      <th>Type</th>\n",
       "      <th>Price</th>\n",
       "      <th>Content Rating</th>\n",
       "      <th>Genres</th>\n",
       "      <th>Last Updated</th>\n",
       "      <th>Current Ver</th>\n",
       "      <th>Android Ver</th>\n",
       "      <th>is_english</th>\n",
       "    </tr>\n",
       "  </thead>\n",
       "  <tbody>\n",
       "    <tr>\n",
       "      <td>0</td>\n",
       "      <td>Photo Editor &amp; Candy Camera &amp; Grid &amp; ScrapBook</td>\n",
       "      <td>ART_AND_DESIGN</td>\n",
       "      <td>4.1</td>\n",
       "      <td>159</td>\n",
       "      <td>19M</td>\n",
       "      <td>10,000+</td>\n",
       "      <td>Free</td>\n",
       "      <td>0</td>\n",
       "      <td>Everyone</td>\n",
       "      <td>Art &amp; Design</td>\n",
       "      <td>January 7, 2018</td>\n",
       "      <td>1.0.0</td>\n",
       "      <td>4.0.3 and up</td>\n",
       "      <td>True</td>\n",
       "    </tr>\n",
       "    <tr>\n",
       "      <td>3</td>\n",
       "      <td>Sketch - Draw &amp; Paint</td>\n",
       "      <td>ART_AND_DESIGN</td>\n",
       "      <td>4.5</td>\n",
       "      <td>215644</td>\n",
       "      <td>25M</td>\n",
       "      <td>50,000,000+</td>\n",
       "      <td>Free</td>\n",
       "      <td>0</td>\n",
       "      <td>Teen</td>\n",
       "      <td>Art &amp; Design</td>\n",
       "      <td>June 8, 2018</td>\n",
       "      <td>Varies with device</td>\n",
       "      <td>4.2 and up</td>\n",
       "      <td>True</td>\n",
       "    </tr>\n",
       "    <tr>\n",
       "      <td>4</td>\n",
       "      <td>Pixel Draw - Number Art Coloring Book</td>\n",
       "      <td>ART_AND_DESIGN</td>\n",
       "      <td>4.3</td>\n",
       "      <td>967</td>\n",
       "      <td>2.8M</td>\n",
       "      <td>100,000+</td>\n",
       "      <td>Free</td>\n",
       "      <td>0</td>\n",
       "      <td>Everyone</td>\n",
       "      <td>Art &amp; Design;Creativity</td>\n",
       "      <td>June 20, 2018</td>\n",
       "      <td>1.1</td>\n",
       "      <td>4.4 and up</td>\n",
       "      <td>True</td>\n",
       "    </tr>\n",
       "  </tbody>\n",
       "</table>\n",
       "</div>"
      ],
      "text/plain": [
       "                                              App        Category  Rating  \\\n",
       "0  Photo Editor & Candy Camera & Grid & ScrapBook  ART_AND_DESIGN     4.1   \n",
       "3                           Sketch - Draw & Paint  ART_AND_DESIGN     4.5   \n",
       "4           Pixel Draw - Number Art Coloring Book  ART_AND_DESIGN     4.3   \n",
       "\n",
       "  Reviews  Size     Installs  Type Price Content Rating  \\\n",
       "0     159   19M      10,000+  Free     0       Everyone   \n",
       "3  215644   25M  50,000,000+  Free     0           Teen   \n",
       "4     967  2.8M     100,000+  Free     0       Everyone   \n",
       "\n",
       "                    Genres     Last Updated         Current Ver   Android Ver  \\\n",
       "0             Art & Design  January 7, 2018               1.0.0  4.0.3 and up   \n",
       "3             Art & Design     June 8, 2018  Varies with device    4.2 and up   \n",
       "4  Art & Design;Creativity    June 20, 2018                 1.1    4.4 and up   \n",
       "\n",
       "   is_english  \n",
       "0        True  \n",
       "3        True  \n",
       "4        True  "
      ]
     },
     "execution_count": 10,
     "metadata": {},
     "output_type": "execute_result"
    }
   ],
   "source": [
    "# Creating a function that identifies ansi-ii characters\n",
    "def is_english(name):\n",
    "    for i in name:\n",
    "        if ord(i)>127: # if ord>127 means it's not ansii\n",
    "            return False\n",
    "    return True\n",
    "            \n",
    "\n",
    "google[\"is_english\"] = google[\"App\"].apply(is_english) # creates a new column on data set\n",
    "\n",
    "google = google[google[\"is_english\"]==True] # filters the DataFRrame by the new column\n",
    "google.sort_index().head(3)"
   ]
  },
  {
   "cell_type": "markdown",
   "metadata": {},
   "source": [
    "#### Apple Store\n",
    "\n",
    "We can do the same for the Apple Store dataset."
   ]
  },
  {
   "cell_type": "code",
   "execution_count": 11,
   "metadata": {},
   "outputs": [
    {
     "data": {
      "text/html": [
       "<div>\n",
       "<style scoped>\n",
       "    .dataframe tbody tr th:only-of-type {\n",
       "        vertical-align: middle;\n",
       "    }\n",
       "\n",
       "    .dataframe tbody tr th {\n",
       "        vertical-align: top;\n",
       "    }\n",
       "\n",
       "    .dataframe thead th {\n",
       "        text-align: right;\n",
       "    }\n",
       "</style>\n",
       "<table border=\"1\" class=\"dataframe\">\n",
       "  <thead>\n",
       "    <tr style=\"text-align: right;\">\n",
       "      <th></th>\n",
       "      <th>id</th>\n",
       "      <th>track_name</th>\n",
       "      <th>size_bytes</th>\n",
       "      <th>currency</th>\n",
       "      <th>price</th>\n",
       "      <th>rating_count_tot</th>\n",
       "      <th>rating_count_ver</th>\n",
       "      <th>user_rating</th>\n",
       "      <th>user_rating_ver</th>\n",
       "      <th>ver</th>\n",
       "      <th>cont_rating</th>\n",
       "      <th>prime_genre</th>\n",
       "      <th>sup_devices.num</th>\n",
       "      <th>ipadSc_urls.num</th>\n",
       "      <th>lang.num</th>\n",
       "      <th>vpp_lic</th>\n",
       "      <th>is_english</th>\n",
       "    </tr>\n",
       "  </thead>\n",
       "  <tbody>\n",
       "    <tr>\n",
       "      <td>0</td>\n",
       "      <td>284882215</td>\n",
       "      <td>Facebook</td>\n",
       "      <td>389879808</td>\n",
       "      <td>USD</td>\n",
       "      <td>0.0</td>\n",
       "      <td>2974676</td>\n",
       "      <td>212</td>\n",
       "      <td>3.5</td>\n",
       "      <td>3.5</td>\n",
       "      <td>95.0</td>\n",
       "      <td>4+</td>\n",
       "      <td>Social Networking</td>\n",
       "      <td>37</td>\n",
       "      <td>1</td>\n",
       "      <td>29</td>\n",
       "      <td>1</td>\n",
       "      <td>True</td>\n",
       "    </tr>\n",
       "    <tr>\n",
       "      <td>1</td>\n",
       "      <td>389801252</td>\n",
       "      <td>Instagram</td>\n",
       "      <td>113954816</td>\n",
       "      <td>USD</td>\n",
       "      <td>0.0</td>\n",
       "      <td>2161558</td>\n",
       "      <td>1289</td>\n",
       "      <td>4.5</td>\n",
       "      <td>4.0</td>\n",
       "      <td>10.23</td>\n",
       "      <td>12+</td>\n",
       "      <td>Photo &amp; Video</td>\n",
       "      <td>37</td>\n",
       "      <td>0</td>\n",
       "      <td>29</td>\n",
       "      <td>1</td>\n",
       "      <td>True</td>\n",
       "    </tr>\n",
       "    <tr>\n",
       "      <td>2</td>\n",
       "      <td>529479190</td>\n",
       "      <td>Clash of Clans</td>\n",
       "      <td>116476928</td>\n",
       "      <td>USD</td>\n",
       "      <td>0.0</td>\n",
       "      <td>2130805</td>\n",
       "      <td>579</td>\n",
       "      <td>4.5</td>\n",
       "      <td>4.5</td>\n",
       "      <td>9.24.12</td>\n",
       "      <td>9+</td>\n",
       "      <td>Games</td>\n",
       "      <td>38</td>\n",
       "      <td>5</td>\n",
       "      <td>18</td>\n",
       "      <td>1</td>\n",
       "      <td>True</td>\n",
       "    </tr>\n",
       "    <tr>\n",
       "      <td>3</td>\n",
       "      <td>420009108</td>\n",
       "      <td>Temple Run</td>\n",
       "      <td>65921024</td>\n",
       "      <td>USD</td>\n",
       "      <td>0.0</td>\n",
       "      <td>1724546</td>\n",
       "      <td>3842</td>\n",
       "      <td>4.5</td>\n",
       "      <td>4.0</td>\n",
       "      <td>1.6.2</td>\n",
       "      <td>9+</td>\n",
       "      <td>Games</td>\n",
       "      <td>40</td>\n",
       "      <td>5</td>\n",
       "      <td>1</td>\n",
       "      <td>1</td>\n",
       "      <td>True</td>\n",
       "    </tr>\n",
       "    <tr>\n",
       "      <td>4</td>\n",
       "      <td>284035177</td>\n",
       "      <td>Pandora - Music &amp; Radio</td>\n",
       "      <td>130242560</td>\n",
       "      <td>USD</td>\n",
       "      <td>0.0</td>\n",
       "      <td>1126879</td>\n",
       "      <td>3594</td>\n",
       "      <td>4.0</td>\n",
       "      <td>4.5</td>\n",
       "      <td>8.4.1</td>\n",
       "      <td>12+</td>\n",
       "      <td>Music</td>\n",
       "      <td>37</td>\n",
       "      <td>4</td>\n",
       "      <td>1</td>\n",
       "      <td>1</td>\n",
       "      <td>True</td>\n",
       "    </tr>\n",
       "  </tbody>\n",
       "</table>\n",
       "</div>"
      ],
      "text/plain": [
       "          id               track_name  size_bytes currency  price  \\\n",
       "0  284882215                 Facebook   389879808      USD    0.0   \n",
       "1  389801252                Instagram   113954816      USD    0.0   \n",
       "2  529479190           Clash of Clans   116476928      USD    0.0   \n",
       "3  420009108               Temple Run    65921024      USD    0.0   \n",
       "4  284035177  Pandora - Music & Radio   130242560      USD    0.0   \n",
       "\n",
       "   rating_count_tot  rating_count_ver  user_rating  user_rating_ver      ver  \\\n",
       "0           2974676               212          3.5              3.5     95.0   \n",
       "1           2161558              1289          4.5              4.0    10.23   \n",
       "2           2130805               579          4.5              4.5  9.24.12   \n",
       "3           1724546              3842          4.5              4.0    1.6.2   \n",
       "4           1126879              3594          4.0              4.5    8.4.1   \n",
       "\n",
       "  cont_rating        prime_genre  sup_devices.num  ipadSc_urls.num  lang.num  \\\n",
       "0          4+  Social Networking               37                1        29   \n",
       "1         12+      Photo & Video               37                0        29   \n",
       "2          9+              Games               38                5        18   \n",
       "3          9+              Games               40                5         1   \n",
       "4         12+              Music               37                4         1   \n",
       "\n",
       "   vpp_lic  is_english  \n",
       "0        1        True  \n",
       "1        1        True  \n",
       "2        1        True  \n",
       "3        1        True  \n",
       "4        1        True  "
      ]
     },
     "execution_count": 11,
     "metadata": {},
     "output_type": "execute_result"
    }
   ],
   "source": [
    "apple[\"is_english\"] = apple[\"track_name\"].apply(is_english)\n",
    "only_english = apple.loc[apple[\"is_english\"]==True]\n",
    "apple = only_english\n",
    "apple.sort_index().head()"
   ]
  },
  {
   "cell_type": "code",
   "execution_count": 12,
   "metadata": {},
   "outputs": [
    {
     "name": "stdout",
     "output_type": "stream",
     "text": [
      "(9118, 14) (5705, 17)\n"
     ]
    }
   ],
   "source": [
    "print(google.shape, apple.shape)"
   ]
  },
  {
   "cell_type": "markdown",
   "metadata": {},
   "source": [
    "It's evident that some rows were deleted from the DataFrame, but now the available sample is more representative of the app's profile we're looking for."
   ]
  },
  {
   "cell_type": "markdown",
   "metadata": {},
   "source": [
    "## Checking For Missing Data\n",
    "\n",
    "The next step is to find out if there is any missing data.\n",
    "\n",
    "### Google Play Store"
   ]
  },
  {
   "cell_type": "code",
   "execution_count": 13,
   "metadata": {
    "scrolled": true
   },
   "outputs": [
    {
     "name": "stdout",
     "output_type": "stream",
     "text": [
      "<class 'pandas.core.frame.DataFrame'>\n",
      "Int64Index: 9118 entries, 2989 to 4177\n",
      "Data columns (total 14 columns):\n",
      "App               9118 non-null object\n",
      "Category          9118 non-null object\n",
      "Rating            7752 non-null float64\n",
      "Reviews           9118 non-null object\n",
      "Size              9118 non-null object\n",
      "Installs          9118 non-null object\n",
      "Type              9117 non-null object\n",
      "Price             9118 non-null object\n",
      "Content Rating    9117 non-null object\n",
      "Genres            9118 non-null object\n",
      "Last Updated      9118 non-null object\n",
      "Current Ver       9110 non-null object\n",
      "Android Ver       9115 non-null object\n",
      "is_english        9118 non-null bool\n",
      "dtypes: bool(1), float64(1), object(12)\n",
      "memory usage: 578.8+ KB\n"
     ]
    }
   ],
   "source": [
    "google.info()"
   ]
  },
  {
   "cell_type": "markdown",
   "metadata": {},
   "source": [
    "We can spot missing data in the following columns:\n",
    "\n",
    "1) Rating\n",
    "\n",
    "2) Content Rating\n",
    "\n",
    "3) Current Version\n",
    "\n",
    "4) Android Version"
   ]
  },
  {
   "cell_type": "markdown",
   "metadata": {},
   "source": [
    "#### The Rating Column\n",
    "\n",
    "It's the column with the most missing values. It's possible to take advantage of the fact that data is nummeric and try imputation."
   ]
  },
  {
   "cell_type": "markdown",
   "metadata": {},
   "source": [
    "We can verify some metrics, to see which one is more suitable to fill the missing data with. \n",
    "\n",
    "We'll use a histogram to verify how ratings are distributed across the dataset."
   ]
  },
  {
   "cell_type": "code",
   "execution_count": 14,
   "metadata": {},
   "outputs": [
    {
     "data": {
      "image/png": "[encoded data removed]",
      "text/plain": [
       "<Figure size 936x360 with 1 Axes>"
      ]
     },
     "metadata": {
      "needs_background": "light"
     },
     "output_type": "display_data"
    }
   ],
   "source": [
    "google[\"Rating\"].plot.hist(bins = 20, figsize=(13,5), label = \"Ratings\", alpha = 0.8)\n",
    "plt.axvline(google[\"Rating\"].mean(), color = \"orange\", linewidth = 3, label = \"Average Rating\")\n",
    "plt.axvline(google[\"Rating\"].median(),color = \"green\", label =\"Median\", linewidth = 3)\n",
    "plt.axvline(google[\"Rating\"].mode().mean(),color = \"red\", label = \"Mode\", linewidth = 3)\n",
    "plt.title(\"Comparison Between Different Metrics to Replace Missing Values\", fontsize =\"x-large\")\n",
    "plt.legend()\n",
    "plt.show()"
   ]
  },
  {
   "cell_type": "markdown",
   "metadata": {},
   "source": [
    "Immediately, we can see that something looks off. \n",
    "\n",
    "Ratings in the Google Play Store go from 0 to 5 Stars, but the plot indicates that there might be apps with more than 5 stars."
   ]
  },
  {
   "cell_type": "code",
   "execution_count": 15,
   "metadata": {
    "scrolled": true
   },
   "outputs": [
    {
     "data": {
      "text/html": [
       "<div>\n",
       "<style scoped>\n",
       "    .dataframe tbody tr th:only-of-type {\n",
       "        vertical-align: middle;\n",
       "    }\n",
       "\n",
       "    .dataframe tbody tr th {\n",
       "        vertical-align: top;\n",
       "    }\n",
       "\n",
       "    .dataframe thead th {\n",
       "        text-align: right;\n",
       "    }\n",
       "</style>\n",
       "<table border=\"1\" class=\"dataframe\">\n",
       "  <thead>\n",
       "    <tr style=\"text-align: right;\">\n",
       "      <th></th>\n",
       "      <th>App</th>\n",
       "      <th>Category</th>\n",
       "      <th>Rating</th>\n",
       "      <th>Reviews</th>\n",
       "      <th>Size</th>\n",
       "      <th>Installs</th>\n",
       "      <th>Type</th>\n",
       "      <th>Price</th>\n",
       "      <th>Content Rating</th>\n",
       "      <th>Genres</th>\n",
       "      <th>Last Updated</th>\n",
       "      <th>Current Ver</th>\n",
       "      <th>Android Ver</th>\n",
       "      <th>is_english</th>\n",
       "    </tr>\n",
       "  </thead>\n",
       "  <tbody>\n",
       "    <tr>\n",
       "      <td>10472</td>\n",
       "      <td>Life Made WI-Fi Touchscreen Photo Frame</td>\n",
       "      <td>1.9</td>\n",
       "      <td>19.0</td>\n",
       "      <td>3.0M</td>\n",
       "      <td>1,000+</td>\n",
       "      <td>Free</td>\n",
       "      <td>0</td>\n",
       "      <td>Everyone</td>\n",
       "      <td>NaN</td>\n",
       "      <td>February 11, 2018</td>\n",
       "      <td>1.0.19</td>\n",
       "      <td>4.0 and up</td>\n",
       "      <td>NaN</td>\n",
       "      <td>True</td>\n",
       "    </tr>\n",
       "  </tbody>\n",
       "</table>\n",
       "</div>"
      ],
      "text/plain": [
       "                                           App Category  Rating Reviews  \\\n",
       "10472  Life Made WI-Fi Touchscreen Photo Frame      1.9    19.0    3.0M   \n",
       "\n",
       "         Size Installs Type     Price Content Rating             Genres  \\\n",
       "10472  1,000+     Free    0  Everyone            NaN  February 11, 2018   \n",
       "\n",
       "      Last Updated Current Ver Android Ver  is_english  \n",
       "10472       1.0.19  4.0 and up         NaN        True  "
      ]
     },
     "execution_count": 15,
     "metadata": {},
     "output_type": "execute_result"
    }
   ],
   "source": [
    "google[google[\"Rating\"]>5]"
   ]
  },
  {
   "cell_type": "markdown",
   "metadata": {},
   "source": [
    "It looks like there is one app that's causing the metrics to deviate from what we expect. \n",
    "\n",
    "If we look closely, however, we can see that there was a problem filling the data in that row. The values seen to have been shifted to the left due to the missing data in that row (at the Android Version and the Content Rating). If we take a look at the **reviews, size and installs** columns, this becomes clear.\n",
    "\n",
    "1) The Installs column contains data from the Type column\n",
    "\n",
    "2) The Size column contain data which belongs to the Installs column\n",
    "\n",
    "3) Finally the Reviews data has data from the Size column. \n",
    "\n",
    "Now we have to decide what to do with this data. Since we have to find the most popular categories in Google Play Store and this information is missing altogether from that row, it's better to exclude it from the analysis than trying to find out the category it belongs to. "
   ]
  },
  {
   "cell_type": "code",
   "execution_count": 16,
   "metadata": {},
   "outputs": [],
   "source": [
    "# Droping the row by its index number\n",
    "google = google.drop(10472,axis = 0)"
   ]
  },
  {
   "cell_type": "markdown",
   "metadata": {},
   "source": [
    "After the small detour for an extra data cleaning, we can redo the plot."
   ]
  },
  {
   "cell_type": "code",
   "execution_count": 17,
   "metadata": {},
   "outputs": [
    {
     "data": {
      "image/png": "[encoded data removed]",
      "text/plain": [
       "<Figure size 936x360 with 1 Axes>"
      ]
     },
     "metadata": {
      "needs_background": "light"
     },
     "output_type": "display_data"
    }
   ],
   "source": [
    "google[\"Rating\"].plot.hist(bins = 20, figsize=(13,5), label = \"Ratings\", alpha = 0.8)\n",
    "plt.axvline(google[\"Rating\"].mean(), color = \"orange\", linewidth = 3, label = \"Average Rating\")\n",
    "plt.axvline(google[\"Rating\"].median(),color = \"green\", label =\"Median\", linewidth = 3)\n",
    "plt.axvline(google[\"Rating\"].mode().mean(),color = \"red\", label = \"Mode\", linewidth = 3)\n",
    "plt.title(\"Comparison Between Different Metrics to Replace Missing Values\", fontsize =\"x-large\")\n",
    "plt.legend()\n",
    "plt.show()"
   ]
  },
  {
   "cell_type": "markdown",
   "metadata": {},
   "source": [
    "There are no major changes between the mean, mode and median values. However, we'll stick to the mean, because it's an unbiased stimator, which means that replacing values with the mean won't change the overall mean. "
   ]
  },
  {
   "cell_type": "markdown",
   "metadata": {},
   "source": [
    "#### Replacing Missing Values In The Rating Column"
   ]
  },
  {
   "cell_type": "code",
   "execution_count": 18,
   "metadata": {},
   "outputs": [
    {
     "name": "stdout",
     "output_type": "stream",
     "text": [
      "<class 'pandas.core.frame.DataFrame'>\n",
      "Int64Index: 9117 entries, 2989 to 4177\n",
      "Data columns (total 14 columns):\n",
      "App               9117 non-null object\n",
      "Category          9117 non-null object\n",
      "Rating            9117 non-null float64\n",
      "Reviews           9117 non-null object\n",
      "Size              9117 non-null object\n",
      "Installs          9117 non-null object\n",
      "Type              9116 non-null object\n",
      "Price             9117 non-null object\n",
      "Content Rating    9117 non-null object\n",
      "Genres            9117 non-null object\n",
      "Last Updated      9117 non-null object\n",
      "Current Ver       9109 non-null object\n",
      "Android Ver       9115 non-null object\n",
      "is_english        9117 non-null bool\n",
      "dtypes: bool(1), float64(1), object(12)\n",
      "memory usage: 578.7+ KB\n"
     ]
    }
   ],
   "source": [
    "google.loc[google[\"Rating\"].isnull(),\"Rating\"] = google[\"Rating\"].mean()\n",
    "google.info()"
   ]
  },
  {
   "cell_type": "markdown",
   "metadata": {},
   "source": [
    "The imputation was successful and now there is no more missing data in the rating column.\n",
    "\n",
    "By deleting row 10742, which contained missing values, we also solve the problem with NaN values in the Content Rating value."
   ]
  },
  {
   "cell_type": "markdown",
   "metadata": {},
   "source": [
    "#### Other Missing Data\n",
    "\n",
    "There is still missing data in the Current Version and in the Android Version column. However, these column aren't important for the ongoing analysis. For this reason and to keep this analysis short, we'll refrain from filling those columns."
   ]
  },
  {
   "cell_type": "markdown",
   "metadata": {},
   "source": [
    "### Apple Store\n",
    "\n",
    "Now that we're done with the Google Play Store, we'll check for missing data in the Apple Store."
   ]
  },
  {
   "cell_type": "code",
   "execution_count": 19,
   "metadata": {},
   "outputs": [
    {
     "name": "stdout",
     "output_type": "stream",
     "text": [
      "<class 'pandas.core.frame.DataFrame'>\n",
      "Int64Index: 5705 entries, 0 to 6584\n",
      "Data columns (total 17 columns):\n",
      "id                  5705 non-null int64\n",
      "track_name          5705 non-null object\n",
      "size_bytes          5705 non-null int64\n",
      "currency            5705 non-null object\n",
      "price               5705 non-null float64\n",
      "rating_count_tot    5705 non-null int64\n",
      "rating_count_ver    5705 non-null int64\n",
      "user_rating         5705 non-null float64\n",
      "user_rating_ver     5705 non-null float64\n",
      "ver                 5705 non-null object\n",
      "cont_rating         5705 non-null object\n",
      "prime_genre         5705 non-null object\n",
      "sup_devices.num     5705 non-null int64\n",
      "ipadSc_urls.num     5705 non-null int64\n",
      "lang.num            5705 non-null int64\n",
      "vpp_lic             5705 non-null int64\n",
      "is_english          5705 non-null bool\n",
      "dtypes: bool(1), float64(3), int64(8), object(5)\n",
      "memory usage: 651.8+ KB\n"
     ]
    }
   ],
   "source": [
    "apple.info()"
   ]
  },
  {
   "cell_type": "markdown",
   "metadata": {},
   "source": [
    "There seems to be no missing data in the dataset."
   ]
  },
  {
   "cell_type": "markdown",
   "metadata": {},
   "source": [
    "## Deciding Which Parameter To Use\n",
    "\n",
    "After this small data cleaning, we have to decide which parameter to use when looking for the most profitable apps. That's an important step before going through in-depth analysis.\n",
    "\n",
    "#### The Google Play Store\n",
    "\n",
    "Considering that the company's business consists in in-app advertisement and the success of this business model is highly influenced by the number of users an app has, it would be possible to assume that both the Reviews and the Installs columns could give some insight on the number of users which interact with the app.\n",
    "\n",
    "On the one side, users who take the time to review an app usually interact more with them and could be more inclined to access advertisement that is offered in the application. Nevertheless, we have to consider that many users don't review the app, even though they use it.\n",
    "\n",
    "On the other side, the number of installs is more approximate to number of users who have the application installed in their phones. The downside is that we don't know if users actually interact with the app and we can't assume what's the quality of this interaction.\n",
    "\n",
    "So, for now, we'll stick with the number of installs. We'll assume that having a higher number of users (number of installations) is more profitable than the number of reviews(usually who use the app) when it comes to in-app advertisement.\n",
    "\n",
    "#### The App Store\n",
    "\n",
    "Unfortunately, there is no common metrics for the Installs column from the Google Play Store dataset in the Apple Store DataFrame. Nonetheless, we can use the total ratings to look for the most popular apps.\n"
   ]
  },
  {
   "cell_type": "markdown",
   "metadata": {},
   "source": [
    "## App Categories With Most Users In The Google Play Store\n",
    "\n",
    "Since we decided to proceed the analysis with the Installs column, further cleaning is necessary, since these numbers are in string type."
   ]
  },
  {
   "cell_type": "code",
   "execution_count": 20,
   "metadata": {},
   "outputs": [],
   "source": [
    "# Cleaning the Column\n",
    "google[\"Installs\"] = google[\"Installs\"].str.strip(\"+\").str.replace(\",\",\"\").astype(float)"
   ]
  },
  {
   "cell_type": "markdown",
   "metadata": {},
   "source": [
    "Now that the column in clean, we can verify how many installations apps have on average."
   ]
  },
  {
   "cell_type": "code",
   "execution_count": 21,
   "metadata": {},
   "outputs": [
    {
     "data": {
      "image/png": "[encoded data removed]",
      "text/plain": [
       "<Figure size 936x936 with 1 Axes>"
      ]
     },
     "metadata": {
      "needs_background": "light"
     },
     "output_type": "display_data"
    }
   ],
   "source": [
    "plt.figure(figsize=(13,13))\n",
    "sns.barplot(data = google, y = \"Category\",x =\"Installs\", orient =\"h\", palette = \"tab20\")\n",
    "plt.ylabel(\"App Category\", fontsize=\"x-large\")\n",
    "plt.xlabel(\"Installs (Scientific Notation)\", fontsize = \"x-large\")\n",
    "plt.title(\"Number Of App Installations by Category\", fontsize =\"x-large\")\n",
    "plt.show()"
   ]
  },
  {
   "cell_type": "markdown",
   "metadata": {},
   "source": [
    "According to the output above, the categories with the greatest of installations are:\n",
    "\n",
    "1) Communication\n",
    "\n",
    "2) Social\n",
    "\n",
    "3) Video Players\n",
    "\n",
    "4) Photography\n",
    "\n",
    "5) Productivity\n",
    "\n",
    "6) Games\n",
    "\n",
    "However, we see that there is a great variation between the most downloaded and the least downloaded apps in these categories, as indicated by the black lines on top of each bar\\*. We should examine them closer.\n",
    "\n",
    "\\* Technically speaking, the bars indicate where how many Installs the app with the highest stall number which isn't an outlier, that is, which is still representative of the sample, received.\n",
    "    \n",
    "Below, we get the most installed apps for each of these categories.\n"
   ]
  },
  {
   "cell_type": "code",
   "execution_count": 22,
   "metadata": {
    "scrolled": false
   },
   "outputs": [
    {
     "data": {
      "image/png": "[encoded data removed]",
      "text/plain": [
       "<Figure size 936x1080 with 6 Axes>"
      ]
     },
     "metadata": {
      "needs_background": "light"
     },
     "output_type": "display_data"
    }
   ],
   "source": [
    "# Quick data cleaning of app names to avoid truncated view\n",
    "test = google[\"App\"].str.split(\"[-:]\") # Using regex to split strings\n",
    "def new_name(l): # gets only the first element of the app name\n",
    "    if len(l)==1:\n",
    "        return l[0]\n",
    "    elif len(l)>1:\n",
    "        return l[0]\n",
    "test = test.apply(new_name).str.rstrip() \n",
    "google[\"App\"] = test\n",
    "\n",
    "categories = [\"COMMUNICATION\",\"SOCIAL\",\"VIDEO_PLAYERS\",\"PHOTOGRAPHY\",\"PRODUCTIVITY\",\"GAME\"]\n",
    "grid = plt.figure(figsize=(13,15))\n",
    "for n in np.arange(0,6):\n",
    "    data = google[google[\"Category\"]==categories[n]].sort_values(by=\"Installs\",ascending =False).head(7)\n",
    "    data = data[[\"App\",\"Category\",\"Installs\"]]\n",
    "    ax = grid.add_subplot(3,2,n+1)\n",
    "    ax.barh(y=data[\"App\"],width=data[\"Installs\"],height = 0.5,\n",
    "           color = [\"tab:blue\",\"tab:orange\",\"tab:green\",\"tab:red\",\"tab:purple\",\"tab:brown\",\"tab:pink\"])\n",
    "    ax.set_title(categories[n])\n",
    "    plt.subplots_adjust(wspace=0.3)"
   ]
  },
  {
   "cell_type": "markdown",
   "metadata": {},
   "source": [
    "Based on the output above, we can see that some of these categories are heavily dominated by a few apps with a very widespread use:\n",
    "\n",
    "1) **Communication** is dominated by **Gmail,Skype,Whatsapp and Google Chrome**.\n",
    "\n",
    "2) **Social** has heavy contenders like **Google+, Instagram,Facebook and Snapchat**\n",
    "\n",
    "3) **Video Players** has names like **YouTube and Google Play Movies & Tv**\n",
    "\n",
    "All these names are well stablished names in the market, which means it's hard to compete with them. Most people will chose those well stablished apps over new ones, when deciding which application to download for their phones.\n",
    "\n",
    "As for the **Photography** and **GAME** categories, the sitution is different.\n",
    "\n",
    "1) **Photography** : while Google Photos has a very large number of downloads, based on common market knowledge, it has a different function than the other apps. While Google Photos offers a tool to store and organize pictures, other apps enable the user to modify pictures taken. For this reason, developing a Photography app could be a great idea. \n",
    "\n",
    "2) **Game**: Subway Surfers has indisputably more installs than any other apps. However, all these games have different features and different mechanics. Therefore, it's not possible to say that Subway Surfers excludes the other contenders from competition or dominates the market in any way. Considering this, a game is also a market worth investing in.\n",
    "\n",
    "Last but not least, there is the **Productivity** category. This category is worth investigating further. While there are some heavy contenders, they don't seem to fulfill the same function. That puts this category in a grey zone, between the ones we've assessed so far."
   ]
  },
  {
   "cell_type": "markdown",
   "metadata": {},
   "source": [
    "#### The Productivity Category"
   ]
  },
  {
   "cell_type": "code",
   "execution_count": 23,
   "metadata": {},
   "outputs": [
    {
     "data": {
      "text/plain": [
       "count    3.590000e+02\n",
       "mean     1.579450e+07\n",
       "std      7.662621e+07\n",
       "min      0.000000e+00\n",
       "25%      5.000000e+02\n",
       "50%      1.000000e+05\n",
       "75%      1.000000e+06\n",
       "90%      1.000000e+07\n",
       "max      1.000000e+09\n",
       "Name: Installs, dtype: float64"
      ]
     },
     "execution_count": 23,
     "metadata": {},
     "output_type": "execute_result"
    }
   ],
   "source": [
    "prod = google[google[\"Category\"]==\"PRODUCTIVITY\"]\n",
    "prod[\"Installs\"].describe(percentiles=[0.25,0.5,0.75,0.9])"
   ]
  },
  {
   "cell_type": "markdown",
   "metadata": {},
   "source": [
    "Above, we can see that 90% of the apps of the Installs category still have 10.000.000 (10 million) downloads or less. Let's see what sort of apps there are that are below the 90th percentile."
   ]
  },
  {
   "cell_type": "code",
   "execution_count": 24,
   "metadata": {},
   "outputs": [
    {
     "data": {
      "text/html": [
       "<div>\n",
       "<style scoped>\n",
       "    .dataframe tbody tr th:only-of-type {\n",
       "        vertical-align: middle;\n",
       "    }\n",
       "\n",
       "    .dataframe tbody tr th {\n",
       "        vertical-align: top;\n",
       "    }\n",
       "\n",
       "    .dataframe thead th {\n",
       "        text-align: right;\n",
       "    }\n",
       "</style>\n",
       "<table border=\"1\" class=\"dataframe\">\n",
       "  <thead>\n",
       "    <tr style=\"text-align: right;\">\n",
       "      <th></th>\n",
       "      <th>App</th>\n",
       "      <th>Category</th>\n",
       "      <th>Installs</th>\n",
       "    </tr>\n",
       "  </thead>\n",
       "  <tbody>\n",
       "    <tr>\n",
       "      <td>3511</td>\n",
       "      <td>Easy Voice Recorder</td>\n",
       "      <td>PRODUCTIVITY</td>\n",
       "      <td>10000000.0</td>\n",
       "    </tr>\n",
       "    <tr>\n",
       "      <td>3513</td>\n",
       "      <td>CM FILE MANAGER HD</td>\n",
       "      <td>PRODUCTIVITY</td>\n",
       "      <td>10000000.0</td>\n",
       "    </tr>\n",
       "    <tr>\n",
       "      <td>3924</td>\n",
       "      <td>Fake Call</td>\n",
       "      <td>PRODUCTIVITY</td>\n",
       "      <td>10000000.0</td>\n",
       "    </tr>\n",
       "    <tr>\n",
       "      <td>3504</td>\n",
       "      <td>Todoist</td>\n",
       "      <td>PRODUCTIVITY</td>\n",
       "      <td>10000000.0</td>\n",
       "    </tr>\n",
       "    <tr>\n",
       "      <td>3500</td>\n",
       "      <td>Keeper</td>\n",
       "      <td>PRODUCTIVITY</td>\n",
       "      <td>10000000.0</td>\n",
       "    </tr>\n",
       "    <tr>\n",
       "      <td>3451</td>\n",
       "      <td>All</td>\n",
       "      <td>PRODUCTIVITY</td>\n",
       "      <td>10000000.0</td>\n",
       "    </tr>\n",
       "    <tr>\n",
       "      <td>3529</td>\n",
       "      <td>Polaris Office</td>\n",
       "      <td>PRODUCTIVITY</td>\n",
       "      <td>10000000.0</td>\n",
       "    </tr>\n",
       "    <tr>\n",
       "      <td>4079</td>\n",
       "      <td>Mobile Security &amp; Antivirus</td>\n",
       "      <td>PRODUCTIVITY</td>\n",
       "      <td>10000000.0</td>\n",
       "    </tr>\n",
       "    <tr>\n",
       "      <td>3475</td>\n",
       "      <td>HTC Calendar</td>\n",
       "      <td>PRODUCTIVITY</td>\n",
       "      <td>10000000.0</td>\n",
       "    </tr>\n",
       "    <tr>\n",
       "      <td>3560</td>\n",
       "      <td>Jorte Calendar &amp; Organizer</td>\n",
       "      <td>PRODUCTIVITY</td>\n",
       "      <td>10000000.0</td>\n",
       "    </tr>\n",
       "  </tbody>\n",
       "</table>\n",
       "</div>"
      ],
      "text/plain": [
       "                              App      Category    Installs\n",
       "3511          Easy Voice Recorder  PRODUCTIVITY  10000000.0\n",
       "3513           CM FILE MANAGER HD  PRODUCTIVITY  10000000.0\n",
       "3924                    Fake Call  PRODUCTIVITY  10000000.0\n",
       "3504                      Todoist  PRODUCTIVITY  10000000.0\n",
       "3500                       Keeper  PRODUCTIVITY  10000000.0\n",
       "3451                          All  PRODUCTIVITY  10000000.0\n",
       "3529               Polaris Office  PRODUCTIVITY  10000000.0\n",
       "4079  Mobile Security & Antivirus  PRODUCTIVITY  10000000.0\n",
       "3475                 HTC Calendar  PRODUCTIVITY  10000000.0\n",
       "3560   Jorte Calendar & Organizer  PRODUCTIVITY  10000000.0"
      ]
     },
     "execution_count": 24,
     "metadata": {},
     "output_type": "execute_result"
    }
   ],
   "source": [
    "prod.loc[prod[\"Installs\"]<=prod[\"Installs\"].quantile(0.9),[\"App\",\n",
    "                                                          \"Category\",\n",
    "                                                          \"Installs\"]].sort_values(by=\"Installs\",\n",
    "                                                                                   ascending =False).head(10)"
   ]
  },
  {
   "cell_type": "markdown",
   "metadata": {},
   "source": [
    "As expected, the variety among productivity apps is huge. Even with few knowledge over the apps above, we can say that there are calenders, apps for taking notes, apps for managing files, antivirus and etc. This means that there is no clear dominance of the market.\n",
    "\n",
    "For this reason, the productivity app is also a great idea of an application to be developed by the company. "
   ]
  },
  {
   "cell_type": "markdown",
   "metadata": {},
   "source": [
    "## Best App Category In The Apple Store\n",
    "\n",
    "After indetifying trends for the Google Play Store, we can explore the Apple Store dataset."
   ]
  },
  {
   "cell_type": "code",
   "execution_count": 25,
   "metadata": {},
   "outputs": [
    {
     "data": {
      "image/png": "[encoded data removed]",
      "text/plain": [
       "<Figure size 936x720 with 1 Axes>"
      ]
     },
     "metadata": {
      "needs_background": "light"
     },
     "output_type": "display_data"
    }
   ],
   "source": [
    "plt.figure(figsize=(13,10))\n",
    "sns.barplot(data = apple,y=\"prime_genre\",x=\"rating_count_tot\", orient=\"h\",\n",
    "           palette=\"tab20\")\n",
    "plt.xlabel(\"Number Of Ratings\", fontsize=\"x-large\")\n",
    "plt.ylabel(\"Category\",fontsize=\"x-large\")\n",
    "plt.title(\"Average Number Of Ratings by Category\", fontsize=\"x-large\")\n",
    "plt.show()"
   ]
  },
  {
   "cell_type": "markdown",
   "metadata": {},
   "source": [
    "The graphic above indicates that the categories with most ratings (which indicates a higher number of users) are:\n",
    "\n",
    "1) Social Networking\n",
    "\n",
    "2) Reference\n",
    "\n",
    "3) Shopping\n",
    "\n",
    "4) Music\n",
    "\n",
    "5) Travel\n",
    "\n",
    "6) Navigation\n",
    "\n",
    "Here we face the same problem present in the Google Play Store: there is a high variance between the apps with the highest rating count and the ones with lower rating counts. So it's advisable to verify which are the top apps in the most popular categories. "
   ]
  },
  {
   "cell_type": "code",
   "execution_count": 26,
   "metadata": {},
   "outputs": [
    {
     "data": {
      "image/png": "[encoded data removed]",
      "text/plain": [
       "<Figure size 936x1080 with 6 Axes>"
      ]
     },
     "metadata": {
      "needs_background": "light"
     },
     "output_type": "display_data"
    }
   ],
   "source": [
    "# Renaming Apps to avoid truncated view\n",
    "apple = apple.drop(335,axis=0) # Drop a duplicate (same name, but two different versions (normal x Ipad))\n",
    "rename = apple[\"track_name\"].str.split(\"[&-./:]\") # Again using a Regex\n",
    "rename = rename.apply(new_name).str.rstrip()\n",
    "rename = rename[rename != \"Dictionary.com Dictionary & Thesaurus for iPad\"]\n",
    "apple[\"track_name\"] = rename\n",
    "\n",
    "categories = [\"Social Networking\",\"Reference\",\"Shopping\",\"Music\",\"Travel\",\"Navigation\"] # wanted categories\n",
    "\n",
    "apple_grid = plt.figure(figsize=(13,15))\n",
    "\n",
    "for i in np.arange(0,6):\n",
    "    data = apple[apple[\"prime_genre\"]==categories[i]].sort_values(by=\"rating_count_tot\",ascending = False).head(7)\n",
    "    data = data[[\"track_name\",\"prime_genre\",\"rating_count_tot\"]]\n",
    "    ax = apple_grid.add_subplot(3,2,i+1)\n",
    "    ax.barh(y=data[\"track_name\"],width=data[\"rating_count_tot\"],\n",
    "           color = [\"tab:blue\",\"tab:orange\",\"tab:green\",\"tab:red\",\"tab:purple\",\"tab:brown\",\"tab:pink\"])\n",
    "    ax.set_title(categories[i])\n",
    "    plt.subplots_adjust(wspace=0.4)"
   ]
  },
  {
   "cell_type": "markdown",
   "metadata": {},
   "source": [
    "Based on the output above, we can make the following assessment. \n",
    "\n",
    "1) **Social Networking,Navigation,Shopping,Music and Travel** seem to be no go categories:\n",
    "    \n",
    "a) **Social Networking** has names like **Facebook,Skype, Whatsapp and etc**\n",
    "\n",
    "b) **Navigation** features **Waze and Google Maps**\n",
    "    \n",
    "c) **Shopping** presents strong contenders, such as **Groupon,eBay,Wish and Amazon App**\n",
    "    \n",
    "d) **Music** count with names like **Spotify,Shazam,Pandora**\n",
    "    \n",
    "e) **Travel** is represented by **TripAdvisor,Yelp and Uber** - even though there is an interesting variety between the apps with the highest rating count for this category, each of these contender exerts a sort of market dominance in their respective sub-groups within the Travel genre. \n",
    "    \n",
    "These apps are widely used by the public, so that competing with them is probably very hard. So it's better to avoid these categories\n",
    "\n",
    "2) The **Reference** category seems very promising. The **Bible** is by far the most downloaded app. However, it has a different function than the other apps in the list, so that it does not have a market dominance."
   ]
  },
  {
   "cell_type": "markdown",
   "metadata": {},
   "source": [
    "# Conclusion\n",
    "\n",
    "After analysing the data, we can say that the decision on what sort of app to produce lies in balance between the categories with the most users and the absence of market dominating apps. Since the in-app advertisement business model of the company relies heavily on the number of users, the app has to belong to a popular category. On the other hand, if the category presents a market dominating application, it's likely that users will choose the stablished app over the company's app.\n",
    "\n",
    "Taking these two factors in consideration, we arrive at the following results:\n",
    "\n",
    "### Google Play Store\n",
    "\n",
    "The best categories to develop are: \n",
    "\n",
    "1) **Games**: there is no market dominance, in spite of some games having much more downloads than others. This means that any good games have an \"chance\" to become popular in the store.\n",
    "\n",
    "2) **Photography:** The most popular app in this category is **Google Photos**, which is a heavy contender. Nevertheless, the other applications in this group have a different usage in than google photos, so that the market dominance is only apparent. \n",
    "\n",
    "3) **Productivity**: even though some widely known apps have a very high number of downloads compared to the others\n",
    "\n",
    "Other popular categories like **Communication,Video players and Social** are already dominated by apps like **Facebook,Youtube,Instagram,Gmail** and so on.\n",
    "\n",
    "### Apple Store\n",
    "\n",
    "Most categories among the popular ones in Apple Store are already dominated by one or more apps, however one stands out:\n",
    "\n",
    "1) **Reference**: this category includes apps like the Bible, Dictionaries and translators. Even though the Bible has much more downloads than any other, it does not influence the popularity of other apps of the same genre\n",
    "\n",
    "### Final Words\n",
    "\n",
    "The results above are powerful indicators of what category presents the greatest potential for an app. Nonetheless the success of an app relies in other factors like marketing and the features it contains. Unfortunately, the dataset does not offer enough depth to go into detail on these topics, but they could be interesting subjects of future analysis. "
   ]
  }
 ],
 "metadata": {
  "kernelspec": {
   "display_name": "Python 3",
   "language": "python",
   "name": "python3"
  },
  "language_info": {
   "codemirror_mode": {
    "name": "ipython",
    "version": 3
   },
   "file_extension": ".py",
   "mimetype": "text/x-python",
   "name": "python",
   "nbconvert_exporter": "python",
   "pygments_lexer": "ipython3",
   "version": "3.7.4"
  }
 },
 "nbformat": 4,
 "nbformat_minor": 2
}
